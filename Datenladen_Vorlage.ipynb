{
 "cells": [
  {
   "cell_type": "code",
   "execution_count": 499,
   "metadata": {},
   "outputs": [],
   "source": [
    "reset -f"
   ]
  },
  {
   "cell_type": "code",
   "execution_count": 500,
   "metadata": {},
   "outputs": [],
   "source": [
    "import xml.etree.ElementTree as ET\n",
    "from lxml import objectify\n",
    "import pandas as pd\n",
    "import os\n",
    "import itertools"
   ]
  },
  {
   "cell_type": "code",
   "execution_count": 501,
   "metadata": {
    "scrolled": true
   },
   "outputs": [
    {
     "name": "stderr",
     "output_type": "stream",
     "text": [
      "<ipython-input-501-3a4513778ae0>:13: DeprecationWarning: This method will be removed in future versions.  Use 'list(elem)' or iteration over elem instead.\n",
      "  for i in range(len(root.getchildren())):\n",
      "<ipython-input-501-3a4513778ae0>:14: DeprecationWarning: This method will be removed in future versions.  Use 'list(elem)' or iteration over elem instead.\n",
      "  child = root.getchildren()[i]\n"
     ]
    }
   ],
   "source": [
    "# load data \n",
    "\n",
    "data = []\n",
    "cols = []\n",
    "df0 = pd.DataFrame()\n",
    "    \n",
    "for file in os.listdir('/home/digga/data_science/Bundestag/data/WahlperiodeXX'): \n",
    "    filename = os.fsdecode(file) \n",
    "    if filename.endswith(\".xml\"): \n",
    "        tree = ET.parse(file)\n",
    "        root = tree.getroot() \n",
    "            \n",
    "        for i in range(len(root.getchildren())):\n",
    "            child = root.getchildren()[i]\n",
    "            data.append([child.text]) \n",
    "            cols.append(child.tag)      \n",
    "            \n",
    "#df = pd.DataFrame(data).T  # Create DataFrame and transpose it\n",
    "#df.columns = cols  # Update column names\n",
    "#df = df.replace(r'\\n',  ' ', regex=True) # remove \"\\n\"\n",
    "#df0.append(df, ignore_index = True)"
   ]
  },
  {
   "cell_type": "code",
   "execution_count": 502,
   "metadata": {},
   "outputs": [],
   "source": [
    "# create dataframe\n",
    "\n",
    "WAHLPERIODE = data[0::6]\n",
    "DOKUMENTART = data[1::6]\n",
    "NR = data[2::6]\n",
    "DATUM = data[3::6]\n",
    "TITEL = data[4::6]\n",
    "TEXT = data[5::6]\n",
    "\n",
    "df = pd.DataFrame(list(zip(WAHLPERIODE, DOKUMENTART, NR, DATUM, TITEL, TEXT)), \n",
    "               columns =['WAHLPERIODE', 'DOKUMENTART', 'NR', 'DATUM', 'TITEL', 'TEXT'])\n",
    "\n",
    "# remove brackets\n",
    "\n",
    "df['WAHLPERIODE'] =  df['WAHLPERIODE'].str[0]\n",
    "df['DOKUMENTART'] =  df['DOKUMENTART'].str[0]\n",
    "df['NR'] =  df['NR'].str[0]\n",
    "df['DATUM'] =  df['DATUM'].str[0]\n",
    "df['TITEL'] =  df['TITEL'].str[0]\n",
    "df['TEXT'] =  df['TEXT'].str[0]\n",
    "\n",
    "df = df.replace(r'\\n',  ' ', regex=True) # remove \"\\n\""
   ]
  },
  {
   "cell_type": "code",
   "execution_count": 503,
   "metadata": {},
   "outputs": [
    {
     "name": "stdout",
     "output_type": "stream",
     "text": [
      "<class 'pandas.core.frame.DataFrame'>\n",
      "RangeIndex: 245 entries, 0 to 244\n",
      "Data columns (total 6 columns):\n",
      " #   Column       Non-Null Count  Dtype \n",
      "---  ------       --------------  ----- \n",
      " 0   WAHLPERIODE  245 non-null    object\n",
      " 1   DOKUMENTART  245 non-null    object\n",
      " 2   NR           245 non-null    object\n",
      " 3   DATUM        245 non-null    object\n",
      " 4   TITEL        245 non-null    object\n",
      " 5   TEXT         245 non-null    object\n",
      "dtypes: object(6)\n",
      "memory usage: 11.6+ KB\n"
     ]
    },
    {
     "data": {
      "text/plain": [
       "(245, 6)"
      ]
     },
     "execution_count": 503,
     "metadata": {},
     "output_type": "execute_result"
    }
   ],
   "source": [
    "df.info()\n",
    "df.shape"
   ]
  },
  {
   "cell_type": "code",
   "execution_count": 504,
   "metadata": {},
   "outputs": [
    {
     "name": "stdout",
     "output_type": "stream",
     "text": [
      "    WAHLPERIODE      DOKUMENTART      NR       DATUM  \\\n",
      "232          18  PLENARPROTOKOLL   18/39  05.06.2014   \n",
      "237          18  PLENARPROTOKOLL  18/215  26.01.2017   \n",
      "190          18  PLENARPROTOKOLL  18/180  24.06.2016   \n",
      "215          18  PLENARPROTOKOLL   18/65  12.11.2014   \n",
      "47           18  PLENARPROTOKOLL  18/146  17.12.2015   \n",
      "\n",
      "                              TITEL  \\\n",
      "232  Plenarprotokoll vom 05.06.2014   \n",
      "237  Plenarprotokoll vom 26.01.2017   \n",
      "190  Plenarprotokoll vom 24.06.2016   \n",
      "215  Plenarprotokoll vom 12.11.2014   \n",
      "47   Plenarprotokoll vom 17.12.2015   \n",
      "\n",
      "                                                  TEXT  \n",
      "232  Plenarprotokoll 18/39 Deutscher Bundestag Sten...  \n",
      "237  Plenarprotokoll 18/215  Deutscher Bundestag St...  \n",
      "190  Plenarprotokoll 18/180  Deutscher Bundestag St...  \n",
      "215  Plenarprotokoll 18/65 Deutscher Bundestag Sten...  \n",
      "47   Plenarprotokoll 18/146  Textrahmenoptionen:  1...  \n"
     ]
    }
   ],
   "source": [
    "print(df.sample(5))"
   ]
  },
  {
   "cell_type": "code",
   "execution_count": 505,
   "metadata": {},
   "outputs": [
    {
     "data": {
      "text/plain": [
       "<bound method NDFrame.to_csv of     WAHLPERIODE      DOKUMENTART      NR       DATUM  \\\n",
       "0            18  PLENARPROTOKOLL  18/195  19.10.2016   \n",
       "1            18  PLENARPROTOKOLL  18/210  16.12.2016   \n",
       "2            18  PLENARPROTOKOLL  18/188  09.09.2016   \n",
       "3            18  PLENARPROTOKOLL  18/213  20.01.2017   \n",
       "4            18  PLENARPROTOKOLL    18/1  22.10.2013   \n",
       "..          ...              ...     ...         ...   \n",
       "240          18  PLENARPROTOKOLL  18/110  12.06.2015   \n",
       "241          18  PLENARPROTOKOLL  18/125  25.09.2015   \n",
       "242          18  PLENARPROTOKOLL  18/144  04.12.2015   \n",
       "243          18  PLENARPROTOKOLL  18/228  30.03.2017   \n",
       "244          18  PLENARPROTOKOLL   18/53  24.09.2014   \n",
       "\n",
       "                              TITEL  \\\n",
       "0    Plenarprotokoll vom 19.10.2016   \n",
       "1    Plenarprotokoll vom 16.12.2016   \n",
       "2    Plenarprotokoll vom 09.09.2016   \n",
       "3    Plenarprotokoll vom 20.01.2017   \n",
       "4    Plenarprotokoll vom 22.10.2013   \n",
       "..                              ...   \n",
       "240  Plenarprotokoll vom 12.06.2015   \n",
       "241  Plenarprotokoll vom 25.09.2015   \n",
       "242  Plenarprotokoll vom 04.12.2015   \n",
       "243  Plenarprotokoll vom 30.03.2017   \n",
       "244  Plenarprotokoll vom 24.09.2014   \n",
       "\n",
       "                                                  TEXT  \n",
       "0    Plenarprotokoll 18/195  Deutscher Bundestag St...  \n",
       "1    Plenarprotokoll 18/210  Deutscher Bundestag St...  \n",
       "2    Plenarprotokoll 18/188  Deutscher Bundestag St...  \n",
       "3    Plenarprotokoll 18/213  Deutscher Bundestag St...  \n",
       "4    Plenarprotokoll 18/1 Deutscher Bundestag Steno...  \n",
       "..                                                 ...  \n",
       "240  Plenarprotokoll 18/110 Deutscher Bundestag Ste...  \n",
       "241  Plenarprotokoll 18/125  Deutscher Bundestag St...  \n",
       "242  Plenarprotokoll 18/144  Deutscher Bundestag St...  \n",
       "243  Plenarprotokoll 18/228  Deutscher Bundestag St...  \n",
       "244  Plenarprotokoll 18/53 Deutscher Bundestag Sten...  \n",
       "\n",
       "[245 rows x 6 columns]>"
      ]
     },
     "execution_count": 505,
     "metadata": {},
     "output_type": "execute_result"
    }
   ],
   "source": [
    "df.to_csv"
   ]
  },
  {
   "cell_type": "code",
   "execution_count": null,
   "metadata": {},
   "outputs": [],
   "source": [
    "df.to_csv ('/home/digga/data_science/Bundestag\\WahlperiodeXX.csv', index = False, header=True)"
   ]
  }
 ],
 "metadata": {
  "kernelspec": {
   "display_name": "Python 3",
   "language": "python",
   "name": "python3"
  },
  "language_info": {
   "codemirror_mode": {
    "name": "ipython",
    "version": 3
   },
   "file_extension": ".py",
   "mimetype": "text/x-python",
   "name": "python",
   "nbconvert_exporter": "python",
   "pygments_lexer": "ipython3",
   "version": "3.8.6"
  }
 },
 "nbformat": 4,
 "nbformat_minor": 4
}
